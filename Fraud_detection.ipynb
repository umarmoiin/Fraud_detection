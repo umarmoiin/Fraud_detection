{
 "cells": [
  {
   "cell_type": "markdown",
   "id": "3a812002",
   "metadata": {},
   "source": [
    "# Fraud detection"
   ]
  },
  {
   "cell_type": "markdown",
   "id": "c1d4d45c",
   "metadata": {},
   "source": [
    "- Importing libraries \n",
    "- Importing csv file\n"
   ]
  },
  {
   "cell_type": "code",
   "execution_count": 3,
   "id": "abd01556",
   "metadata": {},
   "outputs": [],
   "source": [
    "import pandas as pd\n",
    "import matplotlib.pyplot as plt\n",
    "import numpy as np\n",
    "import seaborn as sns"
   ]
  },
  {
   "cell_type": "code",
   "execution_count": 4,
   "id": "a43681ca",
   "metadata": {},
   "outputs": [],
   "source": [
    "fraud_df = pd.read_csv(\"/Users/umarmoin/Documents/Fraud.csv\")"
   ]
  },
  {
   "cell_type": "markdown",
   "id": "669315a6",
   "metadata": {},
   "source": [
    "# Exploratory Data Analysis\n",
    "\n",
    "crisp DM methodology??\n",
    "- step - maps a unit of time in the real world. In this case 1 step is 1 hour of time. Total steps 744 (30 days simulation).\n",
    "\n",
    "- type - CASH-IN, CASH-OUT, DEBIT, PAYMENT and TRANSFER.\n",
    "\n",
    "- amount - amount of the transaction in local currency.\n",
    "\n",
    "- nameOrig - customer who started the transaction\n",
    "\n",
    "- oldbalanceOrg - initial balance before the transaction\n",
    "\n",
    "- newbalanceOrig - new balance after the transaction\n",
    "\n",
    "- nameDest - customer who is the recipient of the transaction\n",
    "\n",
    "- oldbalanceDest - initial balance recipient before the transaction. Note that there is not information for customers that start with M (Merchants).\n",
    "\n",
    "- newbalanceDest - new balance recipient after the transaction. Note that there is not information for customers that start with M (Merchants).\n",
    "\n",
    "- isFraud - This is the transactions made by the fraudulent agents inside the simulation. In this specific dataset the fraudulent behavior of the agents aims to profit by taking control or customers accounts and try to empty the funds by transferring to another account and then cashing out of the system.\n",
    "\n",
    "- isFlaggedFraud - The business model aims to control massive transfers from one account to another and flags illegal attempts. An illegal attempt in this dataset is an attempt to transfer more than 200.000 in a single transaction."
   ]
  },
  {
   "cell_type": "code",
   "execution_count": 5,
   "id": "461deac2",
   "metadata": {},
   "outputs": [
    {
     "name": "stdout",
     "output_type": "stream",
     "text": [
      "<class 'pandas.core.frame.DataFrame'>\n",
      "RangeIndex: 6362620 entries, 0 to 6362619\n",
      "Data columns (total 11 columns):\n",
      " #   Column          Dtype  \n",
      "---  ------          -----  \n",
      " 0   step            int64  \n",
      " 1   type            object \n",
      " 2   amount          float64\n",
      " 3   nameOrig        object \n",
      " 4   oldbalanceOrg   float64\n",
      " 5   newbalanceOrig  float64\n",
      " 6   nameDest        object \n",
      " 7   oldbalanceDest  float64\n",
      " 8   newbalanceDest  float64\n",
      " 9   isFraud         int64  \n",
      " 10  isFlaggedFraud  int64  \n",
      "dtypes: float64(5), int64(3), object(3)\n",
      "memory usage: 534.0+ MB\n"
     ]
    }
   ],
   "source": [
    "fraud_df.info()"
   ]
  },
  {
   "cell_type": "code",
   "execution_count": 6,
   "id": "cff26d43",
   "metadata": {},
   "outputs": [
    {
     "data": {
      "text/html": [
       "<div>\n",
       "<style scoped>\n",
       "    .dataframe tbody tr th:only-of-type {\n",
       "        vertical-align: middle;\n",
       "    }\n",
       "\n",
       "    .dataframe tbody tr th {\n",
       "        vertical-align: top;\n",
       "    }\n",
       "\n",
       "    .dataframe thead th {\n",
       "        text-align: right;\n",
       "    }\n",
       "</style>\n",
       "<table border=\"1\" class=\"dataframe\">\n",
       "  <thead>\n",
       "    <tr style=\"text-align: right;\">\n",
       "      <th></th>\n",
       "      <th>step</th>\n",
       "      <th>type</th>\n",
       "      <th>amount</th>\n",
       "      <th>nameOrig</th>\n",
       "      <th>oldbalanceOrg</th>\n",
       "      <th>newbalanceOrig</th>\n",
       "      <th>nameDest</th>\n",
       "      <th>oldbalanceDest</th>\n",
       "      <th>newbalanceDest</th>\n",
       "      <th>isFraud</th>\n",
       "      <th>isFlaggedFraud</th>\n",
       "    </tr>\n",
       "  </thead>\n",
       "  <tbody>\n",
       "    <tr>\n",
       "      <th>0</th>\n",
       "      <td>1</td>\n",
       "      <td>PAYMENT</td>\n",
       "      <td>9839.64</td>\n",
       "      <td>C1231006815</td>\n",
       "      <td>170136.0</td>\n",
       "      <td>160296.36</td>\n",
       "      <td>M1979787155</td>\n",
       "      <td>0.0</td>\n",
       "      <td>0.0</td>\n",
       "      <td>0</td>\n",
       "      <td>0</td>\n",
       "    </tr>\n",
       "    <tr>\n",
       "      <th>1</th>\n",
       "      <td>1</td>\n",
       "      <td>PAYMENT</td>\n",
       "      <td>1864.28</td>\n",
       "      <td>C1666544295</td>\n",
       "      <td>21249.0</td>\n",
       "      <td>19384.72</td>\n",
       "      <td>M2044282225</td>\n",
       "      <td>0.0</td>\n",
       "      <td>0.0</td>\n",
       "      <td>0</td>\n",
       "      <td>0</td>\n",
       "    </tr>\n",
       "    <tr>\n",
       "      <th>2</th>\n",
       "      <td>1</td>\n",
       "      <td>TRANSFER</td>\n",
       "      <td>181.00</td>\n",
       "      <td>C1305486145</td>\n",
       "      <td>181.0</td>\n",
       "      <td>0.00</td>\n",
       "      <td>C553264065</td>\n",
       "      <td>0.0</td>\n",
       "      <td>0.0</td>\n",
       "      <td>1</td>\n",
       "      <td>0</td>\n",
       "    </tr>\n",
       "    <tr>\n",
       "      <th>3</th>\n",
       "      <td>1</td>\n",
       "      <td>CASH_OUT</td>\n",
       "      <td>181.00</td>\n",
       "      <td>C840083671</td>\n",
       "      <td>181.0</td>\n",
       "      <td>0.00</td>\n",
       "      <td>C38997010</td>\n",
       "      <td>21182.0</td>\n",
       "      <td>0.0</td>\n",
       "      <td>1</td>\n",
       "      <td>0</td>\n",
       "    </tr>\n",
       "    <tr>\n",
       "      <th>4</th>\n",
       "      <td>1</td>\n",
       "      <td>PAYMENT</td>\n",
       "      <td>11668.14</td>\n",
       "      <td>C2048537720</td>\n",
       "      <td>41554.0</td>\n",
       "      <td>29885.86</td>\n",
       "      <td>M1230701703</td>\n",
       "      <td>0.0</td>\n",
       "      <td>0.0</td>\n",
       "      <td>0</td>\n",
       "      <td>0</td>\n",
       "    </tr>\n",
       "  </tbody>\n",
       "</table>\n",
       "</div>"
      ],
      "text/plain": [
       "   step      type    amount     nameOrig  oldbalanceOrg  newbalanceOrig  \\\n",
       "0     1   PAYMENT   9839.64  C1231006815       170136.0       160296.36   \n",
       "1     1   PAYMENT   1864.28  C1666544295        21249.0        19384.72   \n",
       "2     1  TRANSFER    181.00  C1305486145          181.0            0.00   \n",
       "3     1  CASH_OUT    181.00   C840083671          181.0            0.00   \n",
       "4     1   PAYMENT  11668.14  C2048537720        41554.0        29885.86   \n",
       "\n",
       "      nameDest  oldbalanceDest  newbalanceDest  isFraud  isFlaggedFraud  \n",
       "0  M1979787155             0.0             0.0        0               0  \n",
       "1  M2044282225             0.0             0.0        0               0  \n",
       "2   C553264065             0.0             0.0        1               0  \n",
       "3    C38997010         21182.0             0.0        1               0  \n",
       "4  M1230701703             0.0             0.0        0               0  "
      ]
     },
     "execution_count": 6,
     "metadata": {},
     "output_type": "execute_result"
    }
   ],
   "source": [
    "fraud_df.head()"
   ]
  },
  {
   "cell_type": "code",
   "execution_count": 7,
   "id": "6e44841d",
   "metadata": {},
   "outputs": [
    {
     "data": {
      "text/plain": [
       "step                  743\n",
       "type                    5\n",
       "amount            5316900\n",
       "nameOrig          6353307\n",
       "oldbalanceOrg     1845844\n",
       "newbalanceOrig    2682586\n",
       "nameDest          2722362\n",
       "oldbalanceDest    3614697\n",
       "newbalanceDest    3555499\n",
       "isFraud                 2\n",
       "isFlaggedFraud          2\n",
       "dtype: int64"
      ]
     },
     "execution_count": 7,
     "metadata": {},
     "output_type": "execute_result"
    }
   ],
   "source": [
    "fraud_df.nunique()"
   ]
  },
  {
   "cell_type": "code",
   "execution_count": 8,
   "id": "e7c92547",
   "metadata": {},
   "outputs": [
    {
     "data": {
      "text/plain": [
       "(6362620, 11)"
      ]
     },
     "execution_count": 8,
     "metadata": {},
     "output_type": "execute_result"
    }
   ],
   "source": [
    "fraud_df.shape"
   ]
  },
  {
   "cell_type": "markdown",
   "id": "bfc303e7",
   "metadata": {},
   "source": [
    "We have 6262620 rows and 11 columns"
   ]
  },
  {
   "cell_type": "code",
   "execution_count": 9,
   "id": "b62bea28",
   "metadata": {},
   "outputs": [
    {
     "data": {
      "text/plain": [
       "0    6362604\n",
       "1         16\n",
       "Name: isFlaggedFraud, dtype: int64"
      ]
     },
     "execution_count": 9,
     "metadata": {},
     "output_type": "execute_result"
    }
   ],
   "source": [
    "fraud_df['isFlaggedFraud'].value_counts()"
   ]
  },
  {
   "cell_type": "code",
   "execution_count": 10,
   "id": "fdbe3758",
   "metadata": {},
   "outputs": [
    {
     "data": {
      "text/plain": [
       "0    0.998709\n",
       "1    0.001291\n",
       "Name: isFraud, dtype: float64"
      ]
     },
     "execution_count": 10,
     "metadata": {},
     "output_type": "execute_result"
    }
   ],
   "source": [
    "fraud_df['isFraud'].value_counts(normalize=True)"
   ]
  },
  {
   "cell_type": "markdown",
   "id": "1a0340db",
   "metadata": {},
   "source": [
    "\"isFraud\" is only 0.12% but it is significant"
   ]
  },
  {
   "cell_type": "markdown",
   "id": "ab2b7883",
   "metadata": {},
   "source": [
    "## Checking for biasness in the data and normal data exploration\n",
    "Target variable ratio"
   ]
  },
  {
   "cell_type": "code",
   "execution_count": 11,
   "id": "b3c9991b",
   "metadata": {},
   "outputs": [
    {
     "data": {
      "text/plain": [
       "step              0\n",
       "type              0\n",
       "amount            0\n",
       "nameOrig          0\n",
       "oldbalanceOrg     0\n",
       "newbalanceOrig    0\n",
       "nameDest          0\n",
       "oldbalanceDest    0\n",
       "newbalanceDest    0\n",
       "isFraud           0\n",
       "isFlaggedFraud    0\n",
       "dtype: int64"
      ]
     },
     "execution_count": 11,
     "metadata": {},
     "output_type": "execute_result"
    }
   ],
   "source": [
    "fraud_df.isnull().sum()"
   ]
  },
  {
   "cell_type": "markdown",
   "id": "4bf769ea",
   "metadata": {},
   "source": [
    "There are no missing values in any columns"
   ]
  },
  {
   "cell_type": "markdown",
   "id": "9f85a2f6",
   "metadata": {},
   "source": [
    "## Different types of transaction \n"
   ]
  },
  {
   "cell_type": "code",
   "execution_count": 12,
   "id": "9e823f7d",
   "metadata": {},
   "outputs": [
    {
     "data": {
      "image/png": "[encoded data removed]",
      "text/plain": [
       "<Figure size 576x432 with 1 Axes>"
      ]
     },
     "metadata": {
      "needs_background": "light"
     },
     "output_type": "display_data"
    }
   ],
   "source": [
    "column_name = 'type'\n",
    "# Get the counts of each unique value in 'column1'\n",
    "value_counts = fraud_df[column_name].value_counts()\n",
    "# Calculate percentages\n",
    "percentages = (value_counts / len(fraud_df)) * 100\n",
    "percentages = percentages.round(2)\n",
    "\n",
    "# Plot a bar graph\n",
    "plt.figure(figsize=(8, 6))\n",
    "plt.bar(percentages.index, percentages.values, color='skyblue')\n",
    "plt.xlabel(column_name)\n",
    "plt.ylabel('Percentage')\n",
    "plt.title(f'Percentage of Each Value in {column_name}')\n",
    "plt.xticks(rotation=0)\n",
    "plt.ylim(0, 100)  # Adjust the y-axis limit to ensure the percentages are visible\n",
    "plt.grid(axis='y', linestyle='--', alpha=0.7)\n",
    "plt.tight_layout()\n",
    "# Add value labels above each bar\n",
    "for i, v in enumerate(percentages.values):\n",
    "    plt.text(i, v, str(v) + '%', ha='center', va='bottom')\n",
    "plt.show()"
   ]
  },
  {
   "cell_type": "code",
   "execution_count": 13,
   "id": "baa1b21d",
   "metadata": {},
   "outputs": [
    {
     "data": {
      "image/png": "[encoded data removed]",
      "text/plain": [
       "<Figure size 432x432 with 1 Axes>"
      ]
     },
     "metadata": {},
     "output_type": "display_data"
    }
   ],
   "source": [
    "plt.figure(figsize=(6, 6))\n",
    "plt.pie(percentages, labels=percentages.index, autopct='%1.1f%%', startangle=140)\n",
    "plt.title(f'Pie Chart of {column_name} percentages')\n",
    "plt.axis('equal')  # Equal aspect ratio ensures that pie is drawn as a circle.\n",
    "plt.show()"
   ]
  },
  {
   "cell_type": "code",
   "execution_count": 14,
   "id": "611ef5dd",
   "metadata": {},
   "outputs": [
    {
     "data": {
      "image/png": "[encoded data removed]",
      "text/plain": [
       "<Figure size 576x432 with 1 Axes>"
      ]
     },
     "metadata": {
      "needs_background": "light"
     },
     "output_type": "display_data"
    }
   ],
   "source": [
    "# Specify the column you want to plot\n",
    "column_to_plot = 'amount'\n",
    "\n",
    "# Create the violin plot\n",
    "plt.figure(figsize=(8, 6))\n",
    "sns.violinplot(x=fraud_df[column_to_plot], color='skyblue')\n",
    "plt.xlabel(column_to_plot)\n",
    "plt.ylabel('Values')\n",
    "plt.title(f'Violin Plot of {column_to_plot}')\n",
    "plt.show()"
   ]
  },
  {
   "cell_type": "code",
   "execution_count": 50,
   "id": "c417f55c",
   "metadata": {},
   "outputs": [
    {
     "data": {
      "text/plain": [
       "<Figure size 432x288 with 0 Axes>"
      ]
     },
     "metadata": {},
     "output_type": "display_data"
    },
    {
     "data": {
      "image/png": "[encoded data removed]",
      "text/plain": [
       "<Figure size 576x432 with 1 Axes>"
      ]
     },
     "metadata": {
      "needs_background": "light"
     },
     "output_type": "display_data"
    }
   ],
   "source": [
    "plt.figure(figsize=(6, 4))\n",
    "plt.figure(figsize=(8, 6))\n",
    "box = plt.boxplot(df['amount'], vert=False, patch_artist=True)\n",
    "\n",
    "# Customizing the box colors\n",
    "colors = ['lightblue']  # You can specify multiple colors for different boxes\n",
    "for patch in box['boxes']:\n",
    "    patch.set_facecolor(colors[0])\n",
    "    \n",
    "plt.title(\"Box Plot of 'amount'\")\n",
    "plt.xlabel(\"amount\")\n",
    "plt.show()"
   ]
  },
  {
   "cell_type": "code",
   "execution_count": 59,
   "id": "10db82f0",
   "metadata": {},
   "outputs": [
    {
     "data": {
      "image/png": "[encoded data removed]",
      "text/plain": [
       "<Figure size 576x432 with 1 Axes>"
      ]
     },
     "metadata": {
      "needs_background": "light"
     },
     "output_type": "display_data"
    }
   ],
   "source": [
    "plt.figure(figsize=(8, 6))\n",
    "plt.scatter(df['isFraud'], df['amount'], alpha=0.5)  # alpha adjusts the transparency of points\n",
    "plt.title(\"Scatter Plot of 'amount' against 'x_variable'\")\n",
    "plt.xlabel(\"type\")\n",
    "plt.ylabel(\"Amount\")\n",
    "plt.show()"
   ]
  },
  {
   "cell_type": "code",
   "execution_count": 58,
   "id": "436f5746",
   "metadata": {},
   "outputs": [
    {
     "name": "stdout",
     "output_type": "stream",
     "text": [
      "Maximum Amount: 92445516.64\n",
      "Second Maximum Amount: 73823490.36\n"
     ]
    }
   ],
   "source": [
    "max_amount = df['amount'].max()\n",
    "second_max_amount = df['amount'].nlargest(2).iloc[-1]\n",
    "\n",
    "print(\"Maximum Amount:\", max_amount)\n",
    "print(\"Second Maximum Amount:\", second_max_amount)"
   ]
  },
  {
   "cell_type": "markdown",
   "id": "67901547",
   "metadata": {},
   "source": [
    "## Customer vs Merchant in nameOrig and nameDest"
   ]
  },
  {
   "cell_type": "code",
   "execution_count": 15,
   "id": "e6cb591c",
   "metadata": {},
   "outputs": [
    {
     "name": "stdout",
     "output_type": "stream",
     "text": [
      "Number of rows that start with 'C' in nameOrig column: 6362620\n",
      "Number of rows that start with 'M' in nameOrig column: 0\n",
      "Number of rows that start with 'C' in nameDest column: 4211125\n",
      "Number of rows that start with 'M' in nameDest column: 2151495\n"
     ]
    }
   ],
   "source": [
    "df= fraud_df.copy()\n",
    "# Count the number of rows that start with 'C' in the 'nameOrig' column\n",
    "count_nameOrig_startswith_C = df['nameOrig'].str.startswith('C').sum()\n",
    "\n",
    "# Count the number of rows that start with 'M' in the 'nameOrig' column\n",
    "count_nameOrig_startswith_M = df['nameOrig'].str.startswith('M').sum()\n",
    "\n",
    "# Count the number of rows that start with 'C' in the 'nameDest' column\n",
    "count_nameDest_startswith_C = df['nameDest'].str.startswith('C').sum()\n",
    "\n",
    "# Count the number of rows that start with 'M' in the 'nameDest' column\n",
    "count_nameDest_startswith_M = df['nameDest'].str.startswith('M').sum()\n",
    "\n",
    "print(\"Number of rows that start with 'C' in nameOrig column:\", count_nameOrig_startswith_C)\n",
    "print(\"Number of rows that start with 'M' in nameOrig column:\", count_nameOrig_startswith_M)\n",
    "print(\"Number of rows that start with 'C' in nameDest column:\", count_nameDest_startswith_C)\n",
    "print(\"Number of rows that start with 'M' in nameDest column:\", count_nameDest_startswith_M)"
   ]
  },
  {
   "cell_type": "code",
   "execution_count": 16,
   "id": "1c1077e5",
   "metadata": {},
   "outputs": [
    {
     "data": {
      "image/png": "[encoded data removed]",
      "text/plain": [
       "<Figure size 720x432 with 1 Axes>"
      ]
     },
     "metadata": {
      "needs_background": "light"
     },
     "output_type": "display_data"
    }
   ],
   "source": [
    "# Create the bar plot\n",
    "labels = [' C', ' M']\n",
    "counts_nameOrig = [count_nameOrig_startswith_C, count_nameOrig_startswith_M]\n",
    "counts_nameDest = [count_nameDest_startswith_C, count_nameDest_startswith_M]\n",
    "\n",
    "plt.figure(figsize=(10, 6))\n",
    "plt.bar(labels, counts_nameOrig, color='skyblue', label='nameOrig')\n",
    "plt.bar(labels, counts_nameDest, color='orange', label='nameDest', bottom=counts_nameOrig)\n",
    "plt.xlabel('Column Names')\n",
    "plt.ylabel('Counts')\n",
    "plt.title(' \"Customer\" and \"Merchant\" in nameOrig and nameDest')\n",
    "plt.legend()\n",
    "plt.show()"
   ]
  },
  {
   "cell_type": "markdown",
   "id": "eecb8c45",
   "metadata": {},
   "source": [
    "Copying data into new dataframe beacuse of having seprate dataframe from original "
   ]
  },
  {
   "cell_type": "code",
   "execution_count": 17,
   "id": "8ad2690f",
   "metadata": {},
   "outputs": [],
   "source": [
    "fraud_dfnew = fraud_df.copy()"
   ]
  },
  {
   "cell_type": "markdown",
   "id": "96d73992",
   "metadata": {},
   "source": [
    "### Checking and dropping for zero \"amount\" transfers and \"oldbalanceOrg\"\n",
    "- dropping where amount and oldbalanceOrg is zero becuase no transactions been made inbetween"
   ]
  },
  {
   "cell_type": "code",
   "execution_count": 18,
   "id": "2661a2e1",
   "metadata": {},
   "outputs": [
    {
     "data": {
      "text/html": [
       "<div>\n",
       "<style scoped>\n",
       "    .dataframe tbody tr th:only-of-type {\n",
       "        vertical-align: middle;\n",
       "    }\n",
       "\n",
       "    .dataframe tbody tr th {\n",
       "        vertical-align: top;\n",
       "    }\n",
       "\n",
       "    .dataframe thead th {\n",
       "        text-align: right;\n",
       "    }\n",
       "</style>\n",
       "<table border=\"1\" class=\"dataframe\">\n",
       "  <thead>\n",
       "    <tr style=\"text-align: right;\">\n",
       "      <th></th>\n",
       "      <th>step</th>\n",
       "      <th>type</th>\n",
       "      <th>amount</th>\n",
       "      <th>nameOrig</th>\n",
       "      <th>oldbalanceOrg</th>\n",
       "      <th>newbalanceOrig</th>\n",
       "      <th>nameDest</th>\n",
       "      <th>oldbalanceDest</th>\n",
       "      <th>newbalanceDest</th>\n",
       "      <th>isFraud</th>\n",
       "      <th>isFlaggedFraud</th>\n",
       "    </tr>\n",
       "  </thead>\n",
       "  <tbody>\n",
       "    <tr>\n",
       "      <th>0</th>\n",
       "      <td>1</td>\n",
       "      <td>PAYMENT</td>\n",
       "      <td>9839.64</td>\n",
       "      <td>C1231006815</td>\n",
       "      <td>170136.00</td>\n",
       "      <td>160296.36</td>\n",
       "      <td>M1979787155</td>\n",
       "      <td>0.00</td>\n",
       "      <td>0.00</td>\n",
       "      <td>0</td>\n",
       "      <td>0</td>\n",
       "    </tr>\n",
       "    <tr>\n",
       "      <th>1</th>\n",
       "      <td>1</td>\n",
       "      <td>PAYMENT</td>\n",
       "      <td>1864.28</td>\n",
       "      <td>C1666544295</td>\n",
       "      <td>21249.00</td>\n",
       "      <td>19384.72</td>\n",
       "      <td>M2044282225</td>\n",
       "      <td>0.00</td>\n",
       "      <td>0.00</td>\n",
       "      <td>0</td>\n",
       "      <td>0</td>\n",
       "    </tr>\n",
       "    <tr>\n",
       "      <th>2</th>\n",
       "      <td>1</td>\n",
       "      <td>TRANSFER</td>\n",
       "      <td>181.00</td>\n",
       "      <td>C1305486145</td>\n",
       "      <td>181.00</td>\n",
       "      <td>0.00</td>\n",
       "      <td>C553264065</td>\n",
       "      <td>0.00</td>\n",
       "      <td>0.00</td>\n",
       "      <td>1</td>\n",
       "      <td>0</td>\n",
       "    </tr>\n",
       "    <tr>\n",
       "      <th>3</th>\n",
       "      <td>1</td>\n",
       "      <td>CASH_OUT</td>\n",
       "      <td>181.00</td>\n",
       "      <td>C840083671</td>\n",
       "      <td>181.00</td>\n",
       "      <td>0.00</td>\n",
       "      <td>C38997010</td>\n",
       "      <td>21182.00</td>\n",
       "      <td>0.00</td>\n",
       "      <td>1</td>\n",
       "      <td>0</td>\n",
       "    </tr>\n",
       "    <tr>\n",
       "      <th>4</th>\n",
       "      <td>1</td>\n",
       "      <td>PAYMENT</td>\n",
       "      <td>11668.14</td>\n",
       "      <td>C2048537720</td>\n",
       "      <td>41554.00</td>\n",
       "      <td>29885.86</td>\n",
       "      <td>M1230701703</td>\n",
       "      <td>0.00</td>\n",
       "      <td>0.00</td>\n",
       "      <td>0</td>\n",
       "      <td>0</td>\n",
       "    </tr>\n",
       "    <tr>\n",
       "      <th>...</th>\n",
       "      <td>...</td>\n",
       "      <td>...</td>\n",
       "      <td>...</td>\n",
       "      <td>...</td>\n",
       "      <td>...</td>\n",
       "      <td>...</td>\n",
       "      <td>...</td>\n",
       "      <td>...</td>\n",
       "      <td>...</td>\n",
       "      <td>...</td>\n",
       "      <td>...</td>\n",
       "    </tr>\n",
       "    <tr>\n",
       "      <th>6362615</th>\n",
       "      <td>743</td>\n",
       "      <td>CASH_OUT</td>\n",
       "      <td>339682.13</td>\n",
       "      <td>C786484425</td>\n",
       "      <td>339682.13</td>\n",
       "      <td>0.00</td>\n",
       "      <td>C776919290</td>\n",
       "      <td>0.00</td>\n",
       "      <td>339682.13</td>\n",
       "      <td>1</td>\n",
       "      <td>0</td>\n",
       "    </tr>\n",
       "    <tr>\n",
       "      <th>6362616</th>\n",
       "      <td>743</td>\n",
       "      <td>TRANSFER</td>\n",
       "      <td>6311409.28</td>\n",
       "      <td>C1529008245</td>\n",
       "      <td>6311409.28</td>\n",
       "      <td>0.00</td>\n",
       "      <td>C1881841831</td>\n",
       "      <td>0.00</td>\n",
       "      <td>0.00</td>\n",
       "      <td>1</td>\n",
       "      <td>0</td>\n",
       "    </tr>\n",
       "    <tr>\n",
       "      <th>6362617</th>\n",
       "      <td>743</td>\n",
       "      <td>CASH_OUT</td>\n",
       "      <td>6311409.28</td>\n",
       "      <td>C1162922333</td>\n",
       "      <td>6311409.28</td>\n",
       "      <td>0.00</td>\n",
       "      <td>C1365125890</td>\n",
       "      <td>68488.84</td>\n",
       "      <td>6379898.11</td>\n",
       "      <td>1</td>\n",
       "      <td>0</td>\n",
       "    </tr>\n",
       "    <tr>\n",
       "      <th>6362618</th>\n",
       "      <td>743</td>\n",
       "      <td>TRANSFER</td>\n",
       "      <td>850002.52</td>\n",
       "      <td>C1685995037</td>\n",
       "      <td>850002.52</td>\n",
       "      <td>0.00</td>\n",
       "      <td>C2080388513</td>\n",
       "      <td>0.00</td>\n",
       "      <td>0.00</td>\n",
       "      <td>1</td>\n",
       "      <td>0</td>\n",
       "    </tr>\n",
       "    <tr>\n",
       "      <th>6362619</th>\n",
       "      <td>743</td>\n",
       "      <td>CASH_OUT</td>\n",
       "      <td>850002.52</td>\n",
       "      <td>C1280323807</td>\n",
       "      <td>850002.52</td>\n",
       "      <td>0.00</td>\n",
       "      <td>C873221189</td>\n",
       "      <td>6510099.11</td>\n",
       "      <td>7360101.63</td>\n",
       "      <td>1</td>\n",
       "      <td>0</td>\n",
       "    </tr>\n",
       "  </tbody>\n",
       "</table>\n",
       "<p>4260171 rows × 11 columns</p>\n",
       "</div>"
      ],
      "text/plain": [
       "         step      type      amount     nameOrig  oldbalanceOrg  \\\n",
       "0           1   PAYMENT     9839.64  C1231006815      170136.00   \n",
       "1           1   PAYMENT     1864.28  C1666544295       21249.00   \n",
       "2           1  TRANSFER      181.00  C1305486145         181.00   \n",
       "3           1  CASH_OUT      181.00   C840083671         181.00   \n",
       "4           1   PAYMENT    11668.14  C2048537720       41554.00   \n",
       "...       ...       ...         ...          ...            ...   \n",
       "6362615   743  CASH_OUT   339682.13   C786484425      339682.13   \n",
       "6362616   743  TRANSFER  6311409.28  C1529008245     6311409.28   \n",
       "6362617   743  CASH_OUT  6311409.28  C1162922333     6311409.28   \n",
       "6362618   743  TRANSFER   850002.52  C1685995037      850002.52   \n",
       "6362619   743  CASH_OUT   850002.52  C1280323807      850002.52   \n",
       "\n",
       "         newbalanceOrig     nameDest  oldbalanceDest  newbalanceDest  isFraud  \\\n",
       "0             160296.36  M1979787155            0.00            0.00        0   \n",
       "1              19384.72  M2044282225            0.00            0.00        0   \n",
       "2                  0.00   C553264065            0.00            0.00        1   \n",
       "3                  0.00    C38997010        21182.00            0.00        1   \n",
       "4              29885.86  M1230701703            0.00            0.00        0   \n",
       "...                 ...          ...             ...             ...      ...   \n",
       "6362615            0.00   C776919290            0.00       339682.13        1   \n",
       "6362616            0.00  C1881841831            0.00            0.00        1   \n",
       "6362617            0.00  C1365125890        68488.84      6379898.11        1   \n",
       "6362618            0.00  C2080388513            0.00            0.00        1   \n",
       "6362619            0.00   C873221189      6510099.11      7360101.63        1   \n",
       "\n",
       "         isFlaggedFraud  \n",
       "0                     0  \n",
       "1                     0  \n",
       "2                     0  \n",
       "3                     0  \n",
       "4                     0  \n",
       "...                 ...  \n",
       "6362615               0  \n",
       "6362616               0  \n",
       "6362617               0  \n",
       "6362618               0  \n",
       "6362619               0  \n",
       "\n",
       "[4260171 rows x 11 columns]"
      ]
     },
     "execution_count": 18,
     "metadata": {},
     "output_type": "execute_result"
    }
   ],
   "source": [
    "# dropping column amount where value is 0\n",
    "df_rem = fraud_dfnew.drop(fraud_dfnew[fraud_dfnew['amount'] == 0.0].index) \n",
    "# dropping column oldbalanceOrg where value is 0\n",
    "df_rem = df_rem.drop(df_rem[df_rem['oldbalanceOrg'] == 0.0].index)\n",
    "df_rem"
   ]
  },
  {
   "cell_type": "markdown",
   "id": "b20d4348",
   "metadata": {},
   "source": [
    "- Filtering 'namedest' starting with 'C' while dropping 'namedest' starting with 'M' because every entry with 'M' is entered as \"0\" in 'oldbalanceDest' and 'newbalanceDest'"
   ]
  },
  {
   "cell_type": "code",
   "execution_count": 19,
   "id": "8659b40c",
   "metadata": {},
   "outputs": [
    {
     "data": {
      "text/html": [
       "<div>\n",
       "<style scoped>\n",
       "    .dataframe tbody tr th:only-of-type {\n",
       "        vertical-align: middle;\n",
       "    }\n",
       "\n",
       "    .dataframe tbody tr th {\n",
       "        vertical-align: top;\n",
       "    }\n",
       "\n",
       "    .dataframe thead th {\n",
       "        text-align: right;\n",
       "    }\n",
       "</style>\n",
       "<table border=\"1\" class=\"dataframe\">\n",
       "  <thead>\n",
       "    <tr style=\"text-align: right;\">\n",
       "      <th></th>\n",
       "      <th>step</th>\n",
       "      <th>type</th>\n",
       "      <th>amount</th>\n",
       "      <th>nameOrig</th>\n",
       "      <th>oldbalanceOrg</th>\n",
       "      <th>newbalanceOrig</th>\n",
       "      <th>nameDest</th>\n",
       "      <th>oldbalanceDest</th>\n",
       "      <th>newbalanceDest</th>\n",
       "      <th>isFraud</th>\n",
       "      <th>isFlaggedFraud</th>\n",
       "    </tr>\n",
       "  </thead>\n",
       "  <tbody>\n",
       "    <tr>\n",
       "      <th>2</th>\n",
       "      <td>1</td>\n",
       "      <td>TRANSFER</td>\n",
       "      <td>181.00</td>\n",
       "      <td>C1305486145</td>\n",
       "      <td>181.00</td>\n",
       "      <td>0.00</td>\n",
       "      <td>C553264065</td>\n",
       "      <td>0.00</td>\n",
       "      <td>0.00</td>\n",
       "      <td>1</td>\n",
       "      <td>0</td>\n",
       "    </tr>\n",
       "    <tr>\n",
       "      <th>3</th>\n",
       "      <td>1</td>\n",
       "      <td>CASH_OUT</td>\n",
       "      <td>181.00</td>\n",
       "      <td>C840083671</td>\n",
       "      <td>181.00</td>\n",
       "      <td>0.00</td>\n",
       "      <td>C38997010</td>\n",
       "      <td>21182.00</td>\n",
       "      <td>0.00</td>\n",
       "      <td>1</td>\n",
       "      <td>0</td>\n",
       "    </tr>\n",
       "    <tr>\n",
       "      <th>9</th>\n",
       "      <td>1</td>\n",
       "      <td>DEBIT</td>\n",
       "      <td>5337.77</td>\n",
       "      <td>C712410124</td>\n",
       "      <td>41720.00</td>\n",
       "      <td>36382.23</td>\n",
       "      <td>C195600860</td>\n",
       "      <td>41898.00</td>\n",
       "      <td>40348.79</td>\n",
       "      <td>0</td>\n",
       "      <td>0</td>\n",
       "    </tr>\n",
       "    <tr>\n",
       "      <th>10</th>\n",
       "      <td>1</td>\n",
       "      <td>DEBIT</td>\n",
       "      <td>9644.94</td>\n",
       "      <td>C1900366749</td>\n",
       "      <td>4465.00</td>\n",
       "      <td>0.00</td>\n",
       "      <td>C997608398</td>\n",
       "      <td>10845.00</td>\n",
       "      <td>157982.12</td>\n",
       "      <td>0</td>\n",
       "      <td>0</td>\n",
       "    </tr>\n",
       "    <tr>\n",
       "      <th>15</th>\n",
       "      <td>1</td>\n",
       "      <td>CASH_OUT</td>\n",
       "      <td>229133.94</td>\n",
       "      <td>C905080434</td>\n",
       "      <td>15325.00</td>\n",
       "      <td>0.00</td>\n",
       "      <td>C476402209</td>\n",
       "      <td>5083.00</td>\n",
       "      <td>51513.44</td>\n",
       "      <td>0</td>\n",
       "      <td>0</td>\n",
       "    </tr>\n",
       "    <tr>\n",
       "      <th>...</th>\n",
       "      <td>...</td>\n",
       "      <td>...</td>\n",
       "      <td>...</td>\n",
       "      <td>...</td>\n",
       "      <td>...</td>\n",
       "      <td>...</td>\n",
       "      <td>...</td>\n",
       "      <td>...</td>\n",
       "      <td>...</td>\n",
       "      <td>...</td>\n",
       "      <td>...</td>\n",
       "    </tr>\n",
       "    <tr>\n",
       "      <th>6362615</th>\n",
       "      <td>743</td>\n",
       "      <td>CASH_OUT</td>\n",
       "      <td>339682.13</td>\n",
       "      <td>C786484425</td>\n",
       "      <td>339682.13</td>\n",
       "      <td>0.00</td>\n",
       "      <td>C776919290</td>\n",
       "      <td>0.00</td>\n",
       "      <td>339682.13</td>\n",
       "      <td>1</td>\n",
       "      <td>0</td>\n",
       "    </tr>\n",
       "    <tr>\n",
       "      <th>6362616</th>\n",
       "      <td>743</td>\n",
       "      <td>TRANSFER</td>\n",
       "      <td>6311409.28</td>\n",
       "      <td>C1529008245</td>\n",
       "      <td>6311409.28</td>\n",
       "      <td>0.00</td>\n",
       "      <td>C1881841831</td>\n",
       "      <td>0.00</td>\n",
       "      <td>0.00</td>\n",
       "      <td>1</td>\n",
       "      <td>0</td>\n",
       "    </tr>\n",
       "    <tr>\n",
       "      <th>6362617</th>\n",
       "      <td>743</td>\n",
       "      <td>CASH_OUT</td>\n",
       "      <td>6311409.28</td>\n",
       "      <td>C1162922333</td>\n",
       "      <td>6311409.28</td>\n",
       "      <td>0.00</td>\n",
       "      <td>C1365125890</td>\n",
       "      <td>68488.84</td>\n",
       "      <td>6379898.11</td>\n",
       "      <td>1</td>\n",
       "      <td>0</td>\n",
       "    </tr>\n",
       "    <tr>\n",
       "      <th>6362618</th>\n",
       "      <td>743</td>\n",
       "      <td>TRANSFER</td>\n",
       "      <td>850002.52</td>\n",
       "      <td>C1685995037</td>\n",
       "      <td>850002.52</td>\n",
       "      <td>0.00</td>\n",
       "      <td>C2080388513</td>\n",
       "      <td>0.00</td>\n",
       "      <td>0.00</td>\n",
       "      <td>1</td>\n",
       "      <td>0</td>\n",
       "    </tr>\n",
       "    <tr>\n",
       "      <th>6362619</th>\n",
       "      <td>743</td>\n",
       "      <td>CASH_OUT</td>\n",
       "      <td>850002.52</td>\n",
       "      <td>C1280323807</td>\n",
       "      <td>850002.52</td>\n",
       "      <td>0.00</td>\n",
       "      <td>C873221189</td>\n",
       "      <td>6510099.11</td>\n",
       "      <td>7360101.63</td>\n",
       "      <td>1</td>\n",
       "      <td>0</td>\n",
       "    </tr>\n",
       "  </tbody>\n",
       "</table>\n",
       "<p>2882921 rows × 11 columns</p>\n",
       "</div>"
      ],
      "text/plain": [
       "         step      type      amount     nameOrig  oldbalanceOrg  \\\n",
       "2           1  TRANSFER      181.00  C1305486145         181.00   \n",
       "3           1  CASH_OUT      181.00   C840083671         181.00   \n",
       "9           1     DEBIT     5337.77   C712410124       41720.00   \n",
       "10          1     DEBIT     9644.94  C1900366749        4465.00   \n",
       "15          1  CASH_OUT   229133.94   C905080434       15325.00   \n",
       "...       ...       ...         ...          ...            ...   \n",
       "6362615   743  CASH_OUT   339682.13   C786484425      339682.13   \n",
       "6362616   743  TRANSFER  6311409.28  C1529008245     6311409.28   \n",
       "6362617   743  CASH_OUT  6311409.28  C1162922333     6311409.28   \n",
       "6362618   743  TRANSFER   850002.52  C1685995037      850002.52   \n",
       "6362619   743  CASH_OUT   850002.52  C1280323807      850002.52   \n",
       "\n",
       "         newbalanceOrig     nameDest  oldbalanceDest  newbalanceDest  isFraud  \\\n",
       "2                  0.00   C553264065            0.00            0.00        1   \n",
       "3                  0.00    C38997010        21182.00            0.00        1   \n",
       "9              36382.23   C195600860        41898.00        40348.79        0   \n",
       "10                 0.00   C997608398        10845.00       157982.12        0   \n",
       "15                 0.00   C476402209         5083.00        51513.44        0   \n",
       "...                 ...          ...             ...             ...      ...   \n",
       "6362615            0.00   C776919290            0.00       339682.13        1   \n",
       "6362616            0.00  C1881841831            0.00            0.00        1   \n",
       "6362617            0.00  C1365125890        68488.84      6379898.11        1   \n",
       "6362618            0.00  C2080388513            0.00            0.00        1   \n",
       "6362619            0.00   C873221189      6510099.11      7360101.63        1   \n",
       "\n",
       "         isFlaggedFraud  \n",
       "2                     0  \n",
       "3                     0  \n",
       "9                     0  \n",
       "10                    0  \n",
       "15                    0  \n",
       "...                 ...  \n",
       "6362615               0  \n",
       "6362616               0  \n",
       "6362617               0  \n",
       "6362618               0  \n",
       "6362619               0  \n",
       "\n",
       "[2882921 rows x 11 columns]"
      ]
     },
     "execution_count": 19,
     "metadata": {},
     "output_type": "execute_result"
    }
   ],
   "source": [
    "test = df_rem[df_rem['nameDest'].str.startswith('C')]\n",
    "#test.head(60)\n",
    "test"
   ]
  },
  {
   "cell_type": "markdown",
   "id": "516b7f68",
   "metadata": {},
   "source": [
    "Calculating the % of number of '0' in column 'newbalanceDest' in 'test'"
   ]
  },
  {
   "cell_type": "code",
   "execution_count": 20,
   "id": "cdd20727",
   "metadata": {},
   "outputs": [
    {
     "data": {
      "text/plain": [
       "9.84"
      ]
     },
     "execution_count": 20,
     "metadata": {},
     "output_type": "execute_result"
    }
   ],
   "source": [
    "count_zero_amount_dest = (test['newbalanceDest'] == 0.0).sum()\n",
    "round(count_zero_amount_dest/len(test)*100,2)"
   ]
  },
  {
   "cell_type": "markdown",
   "id": "a00c38e9",
   "metadata": {},
   "source": [
    "Calculating the % of number of '1' in column 'isFraud' in 'test'"
   ]
  },
  {
   "cell_type": "code",
   "execution_count": 21,
   "id": "96d5dd89",
   "metadata": {},
   "outputs": [
    {
     "data": {
      "text/plain": [
       "0.28"
      ]
     },
     "execution_count": 21,
     "metadata": {},
     "output_type": "execute_result"
    }
   ],
   "source": [
    "count_zero_amount_dest = (test['isFraud'] == 1).sum()\n",
    "round(count_zero_amount_dest/len(test)*100,2)\n"
   ]
  },
  {
   "cell_type": "markdown",
   "id": "389cbad5",
   "metadata": {},
   "source": [
    "- 0.28% of data is Fraud"
   ]
  },
  {
   "cell_type": "markdown",
   "id": "3cfd604f",
   "metadata": {},
   "source": [
    "### Dropping 'nameDest' and 'nameOrig' as not relevant for further analysis"
   ]
  },
  {
   "cell_type": "code",
   "execution_count": 22,
   "id": "10d6387a",
   "metadata": {},
   "outputs": [],
   "source": [
    "test1 = test.drop(['nameDest','nameOrig'], axis=1)"
   ]
  },
  {
   "cell_type": "code",
   "execution_count": 23,
   "id": "510eaf4f",
   "metadata": {},
   "outputs": [
    {
     "data": {
      "text/html": [
       "<div>\n",
       "<style scoped>\n",
       "    .dataframe tbody tr th:only-of-type {\n",
       "        vertical-align: middle;\n",
       "    }\n",
       "\n",
       "    .dataframe tbody tr th {\n",
       "        vertical-align: top;\n",
       "    }\n",
       "\n",
       "    .dataframe thead th {\n",
       "        text-align: right;\n",
       "    }\n",
       "</style>\n",
       "<table border=\"1\" class=\"dataframe\">\n",
       "  <thead>\n",
       "    <tr style=\"text-align: right;\">\n",
       "      <th></th>\n",
       "      <th>step</th>\n",
       "      <th>type</th>\n",
       "      <th>amount</th>\n",
       "      <th>oldbalanceOrg</th>\n",
       "      <th>newbalanceOrig</th>\n",
       "      <th>oldbalanceDest</th>\n",
       "      <th>newbalanceDest</th>\n",
       "      <th>isFraud</th>\n",
       "      <th>isFlaggedFraud</th>\n",
       "    </tr>\n",
       "  </thead>\n",
       "  <tbody>\n",
       "    <tr>\n",
       "      <th>2</th>\n",
       "      <td>1</td>\n",
       "      <td>TRANSFER</td>\n",
       "      <td>181.00</td>\n",
       "      <td>181.0</td>\n",
       "      <td>0.00</td>\n",
       "      <td>0.0</td>\n",
       "      <td>0.00</td>\n",
       "      <td>1</td>\n",
       "      <td>0</td>\n",
       "    </tr>\n",
       "    <tr>\n",
       "      <th>3</th>\n",
       "      <td>1</td>\n",
       "      <td>CASH_OUT</td>\n",
       "      <td>181.00</td>\n",
       "      <td>181.0</td>\n",
       "      <td>0.00</td>\n",
       "      <td>21182.0</td>\n",
       "      <td>0.00</td>\n",
       "      <td>1</td>\n",
       "      <td>0</td>\n",
       "    </tr>\n",
       "    <tr>\n",
       "      <th>9</th>\n",
       "      <td>1</td>\n",
       "      <td>DEBIT</td>\n",
       "      <td>5337.77</td>\n",
       "      <td>41720.0</td>\n",
       "      <td>36382.23</td>\n",
       "      <td>41898.0</td>\n",
       "      <td>40348.79</td>\n",
       "      <td>0</td>\n",
       "      <td>0</td>\n",
       "    </tr>\n",
       "    <tr>\n",
       "      <th>10</th>\n",
       "      <td>1</td>\n",
       "      <td>DEBIT</td>\n",
       "      <td>9644.94</td>\n",
       "      <td>4465.0</td>\n",
       "      <td>0.00</td>\n",
       "      <td>10845.0</td>\n",
       "      <td>157982.12</td>\n",
       "      <td>0</td>\n",
       "      <td>0</td>\n",
       "    </tr>\n",
       "    <tr>\n",
       "      <th>15</th>\n",
       "      <td>1</td>\n",
       "      <td>CASH_OUT</td>\n",
       "      <td>229133.94</td>\n",
       "      <td>15325.0</td>\n",
       "      <td>0.00</td>\n",
       "      <td>5083.0</td>\n",
       "      <td>51513.44</td>\n",
       "      <td>0</td>\n",
       "      <td>0</td>\n",
       "    </tr>\n",
       "  </tbody>\n",
       "</table>\n",
       "</div>"
      ],
      "text/plain": [
       "    step      type     amount  oldbalanceOrg  newbalanceOrig  oldbalanceDest  \\\n",
       "2      1  TRANSFER     181.00          181.0            0.00             0.0   \n",
       "3      1  CASH_OUT     181.00          181.0            0.00         21182.0   \n",
       "9      1     DEBIT    5337.77        41720.0        36382.23         41898.0   \n",
       "10     1     DEBIT    9644.94         4465.0            0.00         10845.0   \n",
       "15     1  CASH_OUT  229133.94        15325.0            0.00          5083.0   \n",
       "\n",
       "    newbalanceDest  isFraud  isFlaggedFraud  \n",
       "2             0.00        1               0  \n",
       "3             0.00        1               0  \n",
       "9         40348.79        0               0  \n",
       "10       157982.12        0               0  \n",
       "15        51513.44        0               0  "
      ]
     },
     "execution_count": 23,
     "metadata": {},
     "output_type": "execute_result"
    }
   ],
   "source": [
    "test1.head()"
   ]
  },
  {
   "cell_type": "markdown",
   "id": "39c1f2e6",
   "metadata": {},
   "source": [
    "### one hot encoding 'type' why??"
   ]
  },
  {
   "cell_type": "code",
   "execution_count": 24,
   "id": "17e98560",
   "metadata": {},
   "outputs": [
    {
     "data": {
      "text/html": [
       "<div>\n",
       "<style scoped>\n",
       "    .dataframe tbody tr th:only-of-type {\n",
       "        vertical-align: middle;\n",
       "    }\n",
       "\n",
       "    .dataframe tbody tr th {\n",
       "        vertical-align: top;\n",
       "    }\n",
       "\n",
       "    .dataframe thead th {\n",
       "        text-align: right;\n",
       "    }\n",
       "</style>\n",
       "<table border=\"1\" class=\"dataframe\">\n",
       "  <thead>\n",
       "    <tr style=\"text-align: right;\">\n",
       "      <th></th>\n",
       "      <th>step</th>\n",
       "      <th>amount</th>\n",
       "      <th>oldbalanceOrg</th>\n",
       "      <th>newbalanceOrig</th>\n",
       "      <th>oldbalanceDest</th>\n",
       "      <th>newbalanceDest</th>\n",
       "      <th>isFraud</th>\n",
       "      <th>isFlaggedFraud</th>\n",
       "      <th>type_CASH_IN</th>\n",
       "      <th>type_CASH_OUT</th>\n",
       "      <th>type_DEBIT</th>\n",
       "      <th>type_TRANSFER</th>\n",
       "    </tr>\n",
       "  </thead>\n",
       "  <tbody>\n",
       "    <tr>\n",
       "      <th>2</th>\n",
       "      <td>1</td>\n",
       "      <td>181.00</td>\n",
       "      <td>181.00</td>\n",
       "      <td>0.00</td>\n",
       "      <td>0.00</td>\n",
       "      <td>0.00</td>\n",
       "      <td>1</td>\n",
       "      <td>0</td>\n",
       "      <td>0</td>\n",
       "      <td>0</td>\n",
       "      <td>0</td>\n",
       "      <td>1</td>\n",
       "    </tr>\n",
       "    <tr>\n",
       "      <th>3</th>\n",
       "      <td>1</td>\n",
       "      <td>181.00</td>\n",
       "      <td>181.00</td>\n",
       "      <td>0.00</td>\n",
       "      <td>21182.00</td>\n",
       "      <td>0.00</td>\n",
       "      <td>1</td>\n",
       "      <td>0</td>\n",
       "      <td>0</td>\n",
       "      <td>1</td>\n",
       "      <td>0</td>\n",
       "      <td>0</td>\n",
       "    </tr>\n",
       "    <tr>\n",
       "      <th>9</th>\n",
       "      <td>1</td>\n",
       "      <td>5337.77</td>\n",
       "      <td>41720.00</td>\n",
       "      <td>36382.23</td>\n",
       "      <td>41898.00</td>\n",
       "      <td>40348.79</td>\n",
       "      <td>0</td>\n",
       "      <td>0</td>\n",
       "      <td>0</td>\n",
       "      <td>0</td>\n",
       "      <td>1</td>\n",
       "      <td>0</td>\n",
       "    </tr>\n",
       "    <tr>\n",
       "      <th>10</th>\n",
       "      <td>1</td>\n",
       "      <td>9644.94</td>\n",
       "      <td>4465.00</td>\n",
       "      <td>0.00</td>\n",
       "      <td>10845.00</td>\n",
       "      <td>157982.12</td>\n",
       "      <td>0</td>\n",
       "      <td>0</td>\n",
       "      <td>0</td>\n",
       "      <td>0</td>\n",
       "      <td>1</td>\n",
       "      <td>0</td>\n",
       "    </tr>\n",
       "    <tr>\n",
       "      <th>15</th>\n",
       "      <td>1</td>\n",
       "      <td>229133.94</td>\n",
       "      <td>15325.00</td>\n",
       "      <td>0.00</td>\n",
       "      <td>5083.00</td>\n",
       "      <td>51513.44</td>\n",
       "      <td>0</td>\n",
       "      <td>0</td>\n",
       "      <td>0</td>\n",
       "      <td>1</td>\n",
       "      <td>0</td>\n",
       "      <td>0</td>\n",
       "    </tr>\n",
       "    <tr>\n",
       "      <th>...</th>\n",
       "      <td>...</td>\n",
       "      <td>...</td>\n",
       "      <td>...</td>\n",
       "      <td>...</td>\n",
       "      <td>...</td>\n",
       "      <td>...</td>\n",
       "      <td>...</td>\n",
       "      <td>...</td>\n",
       "      <td>...</td>\n",
       "      <td>...</td>\n",
       "      <td>...</td>\n",
       "      <td>...</td>\n",
       "    </tr>\n",
       "    <tr>\n",
       "      <th>6362615</th>\n",
       "      <td>743</td>\n",
       "      <td>339682.13</td>\n",
       "      <td>339682.13</td>\n",
       "      <td>0.00</td>\n",
       "      <td>0.00</td>\n",
       "      <td>339682.13</td>\n",
       "      <td>1</td>\n",
       "      <td>0</td>\n",
       "      <td>0</td>\n",
       "      <td>1</td>\n",
       "      <td>0</td>\n",
       "      <td>0</td>\n",
       "    </tr>\n",
       "    <tr>\n",
       "      <th>6362616</th>\n",
       "      <td>743</td>\n",
       "      <td>6311409.28</td>\n",
       "      <td>6311409.28</td>\n",
       "      <td>0.00</td>\n",
       "      <td>0.00</td>\n",
       "      <td>0.00</td>\n",
       "      <td>1</td>\n",
       "      <td>0</td>\n",
       "      <td>0</td>\n",
       "      <td>0</td>\n",
       "      <td>0</td>\n",
       "      <td>1</td>\n",
       "    </tr>\n",
       "    <tr>\n",
       "      <th>6362617</th>\n",
       "      <td>743</td>\n",
       "      <td>6311409.28</td>\n",
       "      <td>6311409.28</td>\n",
       "      <td>0.00</td>\n",
       "      <td>68488.84</td>\n",
       "      <td>6379898.11</td>\n",
       "      <td>1</td>\n",
       "      <td>0</td>\n",
       "      <td>0</td>\n",
       "      <td>1</td>\n",
       "      <td>0</td>\n",
       "      <td>0</td>\n",
       "    </tr>\n",
       "    <tr>\n",
       "      <th>6362618</th>\n",
       "      <td>743</td>\n",
       "      <td>850002.52</td>\n",
       "      <td>850002.52</td>\n",
       "      <td>0.00</td>\n",
       "      <td>0.00</td>\n",
       "      <td>0.00</td>\n",
       "      <td>1</td>\n",
       "      <td>0</td>\n",
       "      <td>0</td>\n",
       "      <td>0</td>\n",
       "      <td>0</td>\n",
       "      <td>1</td>\n",
       "    </tr>\n",
       "    <tr>\n",
       "      <th>6362619</th>\n",
       "      <td>743</td>\n",
       "      <td>850002.52</td>\n",
       "      <td>850002.52</td>\n",
       "      <td>0.00</td>\n",
       "      <td>6510099.11</td>\n",
       "      <td>7360101.63</td>\n",
       "      <td>1</td>\n",
       "      <td>0</td>\n",
       "      <td>0</td>\n",
       "      <td>1</td>\n",
       "      <td>0</td>\n",
       "      <td>0</td>\n",
       "    </tr>\n",
       "  </tbody>\n",
       "</table>\n",
       "<p>2882921 rows × 12 columns</p>\n",
       "</div>"
      ],
      "text/plain": [
       "         step      amount  oldbalanceOrg  newbalanceOrig  oldbalanceDest  \\\n",
       "2           1      181.00         181.00            0.00            0.00   \n",
       "3           1      181.00         181.00            0.00        21182.00   \n",
       "9           1     5337.77       41720.00        36382.23        41898.00   \n",
       "10          1     9644.94        4465.00            0.00        10845.00   \n",
       "15          1   229133.94       15325.00            0.00         5083.00   \n",
       "...       ...         ...            ...             ...             ...   \n",
       "6362615   743   339682.13      339682.13            0.00            0.00   \n",
       "6362616   743  6311409.28     6311409.28            0.00            0.00   \n",
       "6362617   743  6311409.28     6311409.28            0.00        68488.84   \n",
       "6362618   743   850002.52      850002.52            0.00            0.00   \n",
       "6362619   743   850002.52      850002.52            0.00      6510099.11   \n",
       "\n",
       "         newbalanceDest  isFraud  isFlaggedFraud  type_CASH_IN  type_CASH_OUT  \\\n",
       "2                  0.00        1               0             0              0   \n",
       "3                  0.00        1               0             0              1   \n",
       "9              40348.79        0               0             0              0   \n",
       "10            157982.12        0               0             0              0   \n",
       "15             51513.44        0               0             0              1   \n",
       "...                 ...      ...             ...           ...            ...   \n",
       "6362615       339682.13        1               0             0              1   \n",
       "6362616            0.00        1               0             0              0   \n",
       "6362617      6379898.11        1               0             0              1   \n",
       "6362618            0.00        1               0             0              0   \n",
       "6362619      7360101.63        1               0             0              1   \n",
       "\n",
       "         type_DEBIT  type_TRANSFER  \n",
       "2                 0              1  \n",
       "3                 0              0  \n",
       "9                 1              0  \n",
       "10                1              0  \n",
       "15                0              0  \n",
       "...             ...            ...  \n",
       "6362615           0              0  \n",
       "6362616           0              1  \n",
       "6362617           0              0  \n",
       "6362618           0              1  \n",
       "6362619           0              0  \n",
       "\n",
       "[2882921 rows x 12 columns]"
      ]
     },
     "execution_count": 24,
     "metadata": {},
     "output_type": "execute_result"
    }
   ],
   "source": [
    "one_hot_encoded_data = pd.get_dummies(test1, columns = ['type'])\n",
    "one_hot_encoded_data"
   ]
  },
  {
   "cell_type": "markdown",
   "id": "f9c355f9",
   "metadata": {},
   "source": [
    "## Corelation Matrix \n",
    "## The correlation matrix is used to summarize the data and identify patterns and then make a decision according to it.\n",
    "\n",
    "\n",
    "*   If the relationship is 1, then the relationship is strong.\n",
    "*   If the relationship is 0, then it means the relationship is neutral.\n",
    "*   If the relationship is -1, then it means the relationship is negative or not strong.\n",
    "\n",
    "Strong positive relation between newbalancedest and oldbalancedest.\n",
    "Strong positive relation between Newbalanceorg and oldbalanceorg.\n",
    "Cash in and cash out have a strong negative relationship.\n",
    "\n",
    "These insigts help us in feature selection decsion making acc. to the type of ML model we apply."
   ]
  },
  {
   "cell_type": "code",
   "execution_count": 25,
   "id": "2f2dae07",
   "metadata": {},
   "outputs": [
    {
     "data": {
      "image/png": "[encoded data removed]",
      "text/plain": [
       "<Figure size 864x720 with 2 Axes>"
      ]
     },
     "metadata": {
      "needs_background": "light"
     },
     "output_type": "display_data"
    }
   ],
   "source": [
    "plt.figure(figsize=(12, 10))\n",
    "ax = sns.heatmap(one_hot_encoded_data.corr(), annot=True)"
   ]
  },
  {
   "cell_type": "markdown",
   "id": "0eec706d",
   "metadata": {},
   "source": [
    "### Dropping 'newbalanceOrig' and 'oldbalanceDest' becuase 'newbalanceOrig' and 'oldbalanceOrg' are correlated significantly positive same goes for 'oldbalanceDest' and 'newbalanceDest'"
   ]
  },
  {
   "cell_type": "code",
   "execution_count": 26,
   "id": "414e871d",
   "metadata": {},
   "outputs": [],
   "source": [
    "encoded_data = one_hot_encoded_data.drop(['newbalanceOrig','oldbalanceDest'], axis=1)"
   ]
  },
  {
   "cell_type": "code",
   "execution_count": 27,
   "id": "d560231b",
   "metadata": {},
   "outputs": [],
   "source": [
    "# Separate data into cases where 'isFraud' is 0 and 1\n",
    "df_fraud_0 = one_hot_encoded_data[one_hot_encoded_data['isFraud'] == 0]\n",
    "df_fraud_1 = one_hot_encoded_data[one_hot_encoded_data['isFraud'] == 1]"
   ]
  },
  {
   "cell_type": "code",
   "execution_count": 28,
   "id": "7acaab58",
   "metadata": {},
   "outputs": [
    {
     "data": {
      "text/plain": [
       "0    2874749\n",
       "1       8172\n",
       "Name: isFraud, dtype: int64"
      ]
     },
     "execution_count": 28,
     "metadata": {},
     "output_type": "execute_result"
    }
   ],
   "source": [
    "test1['isFraud'].value_counts()"
   ]
  },
  {
   "cell_type": "code",
   "execution_count": 29,
   "id": "64846af2",
   "metadata": {},
   "outputs": [
    {
     "name": "stdout",
     "output_type": "stream",
     "text": [
      "0    0.997165\n",
      "1    0.002835\n",
      "Name: isFraud, dtype: float64\n"
     ]
    }
   ],
   "source": [
    "print(test1['isFraud'].value_counts(normalize=True))"
   ]
  },
  {
   "cell_type": "markdown",
   "id": "45ef2f7b",
   "metadata": {},
   "source": [
    "As we can observe in 'isFraud' fraud cases that is \"1\" are 8172. So if we have to split the data 90:10 then the data set which needs to be selected is 81720\n"
   ]
  },
  {
   "cell_type": "code",
   "execution_count": 30,
   "id": "c36638e8",
   "metadata": {},
   "outputs": [
    {
     "name": "stdout",
     "output_type": "stream",
     "text": [
      "         step      amount  oldbalanceOrg  newbalanceOrig  oldbalanceDest  \\\n",
      "1625941   157   160240.75       39952.00            0.00        85959.71   \n",
      "2573224   207   281759.88       19526.00            0.00      1749268.57   \n",
      "822065     40   535219.82         341.00       535560.82     12037361.51   \n",
      "810133     40   114980.70        6380.00            0.00            0.00   \n",
      "3919904   284     6519.07      272794.58       266275.51       451509.43   \n",
      "...       ...         ...            ...             ...             ...   \n",
      "6362366   723   128893.50      128893.50            0.00            0.00   \n",
      "6019712   456    38180.99       38180.99            0.00            0.00   \n",
      "1030546    71   386996.34      386996.34            0.00       512943.11   \n",
      "5187789   362  1397689.48     1397689.48            0.00            0.00   \n",
      "6032847   475  1064995.85     1064995.85            0.00            0.00   \n",
      "\n",
      "         newbalanceDest  isFraud  isFlaggedFraud  type_CASH_IN  type_CASH_OUT  \\\n",
      "1625941       246200.46        0               0             0              1   \n",
      "2573224      1780377.88        0               0             0              1   \n",
      "822065      11502141.70        0               0             1              0   \n",
      "810133        114980.70        0               0             0              1   \n",
      "3919904       458028.50        0               0             0              1   \n",
      "...                 ...      ...             ...           ...            ...   \n",
      "6362366            0.00        1               0             0              0   \n",
      "6019712            0.00        1               0             0              0   \n",
      "1030546       899939.45        1               0             0              1   \n",
      "5187789      1397689.48        1               0             0              1   \n",
      "6032847      1064995.85        1               0             0              1   \n",
      "\n",
      "         type_DEBIT  type_TRANSFER  \n",
      "1625941           0              0  \n",
      "2573224           0              0  \n",
      "822065            0              0  \n",
      "810133            0              0  \n",
      "3919904           0              0  \n",
      "...             ...            ...  \n",
      "6362366           0              1  \n",
      "6019712           0              1  \n",
      "1030546           0              0  \n",
      "5187789           0              0  \n",
      "6032847           0              0  \n",
      "\n",
      "[81720 rows x 12 columns]\n"
     ]
    }
   ],
   "source": [
    "# Calculate the number of rows to select based on percentages\n",
    "n_rows_0 = int(0.9 * 81720)\n",
    "n_rows_1 = 81720 - n_rows_0\n",
    "\n",
    "# Sample 90% of rows with 'isFraud' equal to 0 and 10% of rows with 'isFraud' equal to 1\n",
    "sampled_df_fraud_0 = df_fraud_0.sample(n=n_rows_0)\n",
    "sampled_df_fraud_1 = df_fraud_1.sample(n=n_rows_1)\n",
    "\n",
    "# Concatenate the sampled DataFrames to create the final subset\n",
    "subset_df = pd.concat([sampled_df_fraud_0, sampled_df_fraud_1])\n",
    "\n",
    "print(subset_df)"
   ]
  },
  {
   "cell_type": "code",
   "execution_count": 31,
   "id": "55858cd5",
   "metadata": {},
   "outputs": [],
   "source": [
    "# Prepare the features (X) and the target (y)\n",
    "X = subset_df.drop(columns=['isFraud','newbalanceOrig','oldbalanceDest','isFlaggedFraud'])\n",
    "y = subset_df['isFraud']"
   ]
  },
  {
   "cell_type": "code",
   "execution_count": 32,
   "id": "3f772287",
   "metadata": {},
   "outputs": [
    {
     "name": "stdout",
     "output_type": "stream",
     "text": [
      "Warning: Maximum number of iterations has been exceeded.\n",
      "         Current function value: 0.140088\n",
      "         Iterations: 35\n",
      "                           Logit Regression Results                           \n",
      "==============================================================================\n",
      "Dep. Variable:                isFraud   No. Observations:                81720\n",
      "Model:                          Logit   Df Residuals:                    81711\n",
      "Method:                           MLE   Df Model:                            8\n",
      "Date:                Wed, 19 Jul 2023   Pseudo R-squ.:                  0.5691\n",
      "Time:                        19:53:18   Log-Likelihood:                -11448.\n",
      "converged:                      False   LL-Null:                       -26566.\n",
      "Covariance Type:            nonrobust   LLR p-value:                     0.000\n",
      "==================================================================================\n",
      "                     coef    std err          z      P>|z|      [0.025      0.975]\n",
      "----------------------------------------------------------------------------------\n",
      "const            -69.1541        nan        nan        nan         nan         nan\n",
      "step               0.0043      0.000     42.789      0.000       0.004       0.004\n",
      "amount          -1.51e-06   7.31e-08    -20.660      0.000   -1.65e-06   -1.37e-06\n",
      "oldbalanceOrg   5.357e-06   7.94e-08     67.497      0.000     5.2e-06    5.51e-06\n",
      "newbalanceDest -1.431e-07    1.1e-08    -12.999      0.000   -1.65e-07   -1.22e-07\n",
      "type_CASH_IN    -185.9320   1.25e+12  -1.49e-10      1.000   -2.45e+12    2.45e+12\n",
      "type_CASH_OUT     65.0744        nan        nan        nan         nan         nan\n",
      "type_DEBIT       -15.3263   2.99e+16  -5.13e-16      1.000   -5.86e+16    5.86e+16\n",
      "type_TRANSFER     67.0299        nan        nan        nan         nan         nan\n",
      "==================================================================================\n",
      "\n",
      "Possibly complete quasi-separation: A fraction 0.46 of observations can be\n",
      "perfectly predicted. This might indicate that there is complete\n",
      "quasi-separation. In this case some parameters will not be identified.\n"
     ]
    },
    {
     "name": "stderr",
     "output_type": "stream",
     "text": [
      "/opt/anaconda3/lib/python3.9/site-packages/statsmodels/base/model.py:604: ConvergenceWarning: Maximum Likelihood optimization failed to converge. Check mle_retvals\n",
      "  warnings.warn(\"Maximum Likelihood optimization failed to \"\n"
     ]
    }
   ],
   "source": [
    "import statsmodels.api as sm\n",
    "# Fit the logistic regression model\n",
    "X = sm.add_constant(X)\n",
    "logit_model = sm.Logit(y, X)\n",
    "result = logit_model.fit()\n",
    "\n",
    "# Print the summary of the logistic regression model\n",
    "print(result.summary())"
   ]
  },
  {
   "cell_type": "markdown",
   "id": "328e344e",
   "metadata": {},
   "source": [
    "# Different ML models\n",
    "- Loading different libraries"
   ]
  },
  {
   "cell_type": "code",
   "execution_count": 36,
   "id": "0f64a75a",
   "metadata": {},
   "outputs": [],
   "source": [
    "X_train, X_test, y_train, y_test = train_test_split(X, y, test_size=0.25, random_state=42)"
   ]
  },
  {
   "cell_type": "code",
   "execution_count": 35,
   "id": "e05c43cd",
   "metadata": {},
   "outputs": [],
   "source": [
    "from sklearn.model_selection import train_test_split\n",
    "from sklearn.preprocessing import StandardScaler\n",
    "from sklearn.neighbors import KNeighborsClassifier\n",
    "from sklearn.metrics import accuracy_score, confusion_matrix\n",
    "from sklearn.linear_model import LogisticRegression\n",
    "from sklearn.ensemble import RandomForestClassifier\n",
    "#import tensorflow as tf\n",
    "from sklearn.metrics import roc_curve, roc_auc_score, auc\n"
   ]
  },
  {
   "cell_type": "markdown",
   "id": "2de489da",
   "metadata": {},
   "source": [
    "## Performing standardisation\n",
    "- Standardizing data in machine learning is crucial because it ensures that all features have the same scale, preventing any one feature from dominating the model. It facilitates faster optimization, improves numerical stability, and avoids biases in distance-based algorithms."
   ]
  },
  {
   "cell_type": "code",
   "execution_count": 38,
   "id": "88cfae63",
   "metadata": {},
   "outputs": [],
   "source": [
    "scaler = StandardScaler()\n",
    "X_train_scaled = scaler.fit_transform(X_train)\n",
    "X_test_scaled = scaler.transform(X_test)"
   ]
  },
  {
   "cell_type": "markdown",
   "id": "26ff2cda",
   "metadata": {},
   "source": [
    "## KNN model"
   ]
  },
  {
   "cell_type": "code",
   "execution_count": 39,
   "id": "37400ec4",
   "metadata": {},
   "outputs": [
    {
     "name": "stdout",
     "output_type": "stream",
     "text": [
      "Sensitivity (True Positive Rate): 0.8119742701632855\n",
      "Specificity (True Negative Rate): 0.9919061328697919\n",
      "Accuracy: 0.9741067058247675\n",
      "Confusion Matrix:\n",
      "[[18260   149]\n",
      " [  380  1641]]\n"
     ]
    }
   ],
   "source": [
    "knn_classifier = KNeighborsClassifier(n_neighbors=5)  # You can change 'n_neighbors' to the desired value\n",
    "knn_classifier.fit(X_train_scaled, y_train)\n",
    "\n",
    "# making predictions\n",
    "y_pred = knn_classifier.predict(X_test_scaled)\n",
    "\n",
    "# Evaluating the model\n",
    "accuracy = accuracy_score(y_test, y_pred)\n",
    "conf_matrix = confusion_matrix(y_test, y_pred)\n",
    "\n",
    "# Calculating sensitivity and specificity\n",
    "TP = conf_matrix[1, 1]\n",
    "FP = conf_matrix[0, 1]\n",
    "TN = conf_matrix[0, 0]\n",
    "FN = conf_matrix[1, 0]\n",
    "\n",
    "sensitivity = TP / (TP + FN)\n",
    "specificity = TN / (TN + FP)\n",
    "\n",
    "print(\"Sensitivity (True Positive Rate):\", sensitivity)\n",
    "print(\"Specificity (True Negative Rate):\", specificity)\n",
    "\n",
    "print(\"Accuracy:\", accuracy)\n",
    "print(\"Confusion Matrix:\")\n",
    "print(conf_matrix)"
   ]
  },
  {
   "cell_type": "markdown",
   "id": "71cfbede",
   "metadata": {},
   "source": [
    "### True positives and true negatives are fundamental concepts in binary classification tasks. In a binary classification, the goal is to classify data into one of two classes: positive and negative.\n",
    "\n",
    "True positives (TP): These are the cases where the model correctly predicts the positive class when the actual class is also positive. In other words, the model correctly identifies positive instances.\n",
    "\n",
    "True negatives (TN): These are the cases where the model correctly predicts the negative class when the actual class is also negative. In other words, the model correctly identifies negative instances."
   ]
  },
  {
   "cell_type": "markdown",
   "id": "a049a7d5",
   "metadata": {},
   "source": [
    "### Receiver Operating Characteristic (ROC)\n",
    "- The Receiver Operating Characteristic (ROC) curve is a graphical representation of a binary classifier's performance across various discrimination thresholds. It plots the true positive rate (TPR) against the false positive rate (FPR) as the discrimination threshold is varied. The ROC curve is valuable in machine learning because it provides a comprehensive way to assess the model's performance across different classification thresholds, helping to find the optimal balance between sensitivity (recall) and specificity. It also allows for easy comparison between different models, highlighting which one performs better overall. The area under the ROC curve (AUC) further quantifies the model's discriminative power, with a higher AUC indicating better overall performance."
   ]
  },
  {
   "cell_type": "code",
   "execution_count": 40,
   "id": "dd67ddfb",
   "metadata": {},
   "outputs": [
    {
     "data": {
      "image/png": "[encoded data removed]",
      "text/plain": [
       "<Figure size 432x360 with 1 Axes>"
      ]
     },
     "metadata": {
      "needs_background": "light"
     },
     "output_type": "display_data"
    }
   ],
   "source": [
    "# Geting the predicted probabilities for the positive class\n",
    "y_pred_probs = knn_classifier.predict_proba(X_test_scaled)[:, 1]\n",
    "\n",
    "#Computing the ROC curve and AUC score\n",
    "fpr, tpr, thresholds = roc_curve(y_test, y_pred_probs)\n",
    "roc_auc = auc(fpr, tpr)\n",
    "\n",
    "# Ploting the ROC curve\n",
    "plt.figure(figsize=(6, 5))\n",
    "plt.plot(fpr, tpr, color='blue', lw=2, label='ROC curve (area = %0.2f)' % roc_auc)\n",
    "plt.plot([0, 1], [0, 1], color='gray', linestyle='--')\n",
    "plt.xlim([0.0, 1.0])\n",
    "plt.ylim([0.0, 1.05])\n",
    "plt.xlabel('False Positive Rate')\n",
    "plt.ylabel('True Positive Rate')\n",
    "plt.title('Receiver Operating Characteristic (ROC) Curve')\n",
    "plt.legend(loc='lower right')\n",
    "plt.show()\n"
   ]
  },
  {
   "cell_type": "markdown",
   "id": "fde85506",
   "metadata": {},
   "source": [
    "## Logistics Regression"
   ]
  },
  {
   "cell_type": "code",
   "execution_count": 41,
   "id": "b6ecfdcf",
   "metadata": {},
   "outputs": [
    {
     "name": "stdout",
     "output_type": "stream",
     "text": [
      "Sensitivity (True Positive Rate): 0.5175655616031668\n",
      "Specificity (True Negative Rate): 0.9945678744092563\n",
      "Accuracy: 0.9473813020068527\n",
      "Confusion Matrix:\n",
      "[[18309   100]\n",
      " [  975  1046]]\n"
     ]
    }
   ],
   "source": [
    "# Creating and training the logistic regression model\n",
    "logreg_classifier = LogisticRegression()\n",
    "logreg_classifier.fit(X_train_scaled, y_train)\n",
    "\n",
    "# making predictions\n",
    "y_pred = logreg_classifier.predict(X_test_scaled)\n",
    "\n",
    "# Evaluating the model\n",
    "accuracy = accuracy_score(y_test, y_pred)\n",
    "conf_matrix = confusion_matrix(y_test, y_pred)\n",
    "\n",
    "# Calculating sensitivity and specificity\n",
    "TP = conf_matrix[1, 1]\n",
    "FP = conf_matrix[0, 1]\n",
    "TN = conf_matrix[0, 0]\n",
    "FN = conf_matrix[1, 0]\n",
    "\n",
    "sensitivity = TP / (TP + FN)\n",
    "specificity = TN / (TN + FP)\n",
    "\n",
    "print(\"Sensitivity (True Positive Rate):\", sensitivity)\n",
    "print(\"Specificity (True Negative Rate):\", specificity)\n",
    "\n",
    "print(\"Accuracy:\", accuracy)\n",
    "print(\"Confusion Matrix:\")\n",
    "print(conf_matrix)"
   ]
  },
  {
   "cell_type": "code",
   "execution_count": 42,
   "id": "c72b5290",
   "metadata": {},
   "outputs": [
    {
     "data": {
      "image/png": "[encoded data removed]",
      "text/plain": [
       "<Figure size 360x360 with 1 Axes>"
      ]
     },
     "metadata": {
      "needs_background": "light"
     },
     "output_type": "display_data"
    }
   ],
   "source": [
    "# Geting the predicted probabilities for the positive class\n",
    "y_pred_probs = logreg_classifier.predict_proba(X_test_scaled)[:, 1]\n",
    "\n",
    "#Computing the ROC curve and AUC score\n",
    "fpr, tpr, thresholds = roc_curve(y_test, y_pred_probs)\n",
    "roc_auc = auc(fpr, tpr)\n",
    "\n",
    "# Ploting the ROC curve\n",
    "plt.figure(figsize=(5, 5))\n",
    "plt.plot(fpr, tpr, color='blue', lw=2, label='ROC curve (area = %0.2f)' % roc_auc)\n",
    "plt.plot([0, 1], [0, 1], color='gray', linestyle='--')\n",
    "plt.xlim([0.0, 1.0])\n",
    "plt.ylim([0.0, 1.05])\n",
    "plt.xlabel('False Positive Rate')\n",
    "plt.ylabel('True Positive Rate')\n",
    "plt.title('Receiver Operating Characteristic (ROC) Curve')\n",
    "plt.legend(loc='lower right')\n",
    "plt.show()"
   ]
  },
  {
   "cell_type": "markdown",
   "id": "cb809af5",
   "metadata": {},
   "source": [
    "## Random forest\n",
    "\n",
    "### Why Random Forest\n",
    "- Random Forest can be considered better than Logistic Regression in certain scenarios due to its ability to handle complex relationships and non-linearities in the data. Unlike Logistic Regression, which assumes linear separability, Random Forest's ensemble approach allows it to capture intricate patterns and interactions among variables, making it more suitable for diverse and intricate datasets. Additionally, Random Forest is less prone to overfitting, ensuring robust generalization to unseen data. Moreover, it provides feature importance scores, allowing us to understand the impact of each variable on the prediction. However, it is essential to note that the choice between the two algorithms should be driven by the specific problem at hand, as Logistic Regression excels in cases with linearly separable data and provides interpretable insights. Therefore, carefully assessing the data and the goals of the analysis is crucial to make an informed decision about the preferred model."
   ]
  },
  {
   "cell_type": "code",
   "execution_count": 43,
   "id": "62fa89a5",
   "metadata": {},
   "outputs": [
    {
     "name": "stdout",
     "output_type": "stream",
     "text": [
      "Sensitivity (True Positive Rate): 0.9099455714992578\n",
      "Specificity (True Negative Rate): 0.9970666521809984\n",
      "Accuracy: 0.9884483602545276\n",
      "Confusion Matrix:\n",
      "[[18355    54]\n",
      " [  182  1839]]\n"
     ]
    }
   ],
   "source": [
    "# Creating and train the random forest classifier\n",
    "rf_classifier = RandomForestClassifier(n_estimators=100, random_state=42)\n",
    "rf_classifier.fit(X_train, y_train)\n",
    "\n",
    "# making predictions\n",
    "y_pred = rf_classifier.predict(X_test)\n",
    "\n",
    "# Evaluating the model\n",
    "accuracy = accuracy_score(y_test, y_pred)\n",
    "conf_matrix = confusion_matrix(y_test, y_pred)\n",
    "\n",
    "# Calculating sensitivity and specificity\n",
    "TP = conf_matrix[1, 1]\n",
    "FP = conf_matrix[0, 1]\n",
    "TN = conf_matrix[0, 0]\n",
    "FN = conf_matrix[1, 0]\n",
    "\n",
    "sensitivity = TP / (TP + FN)\n",
    "specificity = TN / (TN + FP)\n",
    "\n",
    "print(\"Sensitivity (True Positive Rate):\", sensitivity)\n",
    "print(\"Specificity (True Negative Rate):\", specificity)\n",
    "\n",
    "print(\"Accuracy:\", accuracy)\n",
    "print(\"Confusion Matrix:\")\n",
    "print(conf_matrix)"
   ]
  },
  {
   "cell_type": "code",
   "execution_count": 44,
   "id": "d8c4f60b",
   "metadata": {},
   "outputs": [
    {
     "name": "stderr",
     "output_type": "stream",
     "text": [
      "/opt/anaconda3/lib/python3.9/site-packages/sklearn/base.py:450: UserWarning: X does not have valid feature names, but RandomForestClassifier was fitted with feature names\n",
      "  warnings.warn(\n"
     ]
    },
    {
     "data": {
      "image/png": "[encoded data removed]",
      "text/plain": [
       "<Figure size 432x360 with 1 Axes>"
      ]
     },
     "metadata": {
      "needs_background": "light"
     },
     "output_type": "display_data"
    }
   ],
   "source": [
    "# Geting the predicted probabilities for the positive class\n",
    "y_pred_probs = rf_classifier.predict_proba(X_test_scaled)[:, 1]\n",
    "\n",
    "#Computing the ROC curve and AUC score\n",
    "fpr, tpr, thresholds = roc_curve(y_test, y_pred_probs)\n",
    "roc_auc = auc(fpr, tpr)\n",
    "\n",
    "# Ploting the ROC curve\n",
    "plt.figure(figsize=(6, 5))\n",
    "plt.plot(fpr, tpr, color='blue', lw=2, label='ROC curve (area = %0.2f)' % roc_auc)\n",
    "plt.plot([0, 1], [0, 1], color='gray', linestyle='--')\n",
    "plt.xlim([0.0, 1.0])\n",
    "plt.ylim([0.0, 1.05])\n",
    "plt.xlabel('False Positive Rate')\n",
    "plt.ylabel('True Positive Rate')\n",
    "plt.title('Receiver Operating Characteristic (ROC) Curve')\n",
    "plt.legend(loc='lower right')\n",
    "plt.show()"
   ]
  },
  {
   "cell_type": "markdown",
   "id": "f81675cb",
   "metadata": {},
   "source": [
    "Your task is to execute the process for proactive detection of fraud while answering following\n",
    "questions.\n",
    "1. Data cleaning including missing values, outliers and multi-collinearity.\n",
    "2. Describe your fraud detection model in elaboration.\n",
    "3. How did you select variables to be included in the model?\n",
    "4. Demonstrate the performance of the model by using best set of tools.\n",
    "5. What are the key factors that predict fraudulent customer?\n",
    "6. Do these factors make sense? If yes, How? If not, How not?\n",
    "7. What kind of prevention should be adopted while company update its infrastructure?\n",
    "8. Assuming these actions have been implemented, how would you determine if they work?"
   ]
  },
  {
   "cell_type": "markdown",
   "id": "e476d442",
   "metadata": {},
   "source": [
    "##### Ques1. Data cleaning including missing values, outliers and multi-collinearity.\n",
    "Ans: There were no missing values in any column, outliers were checked through box-plot and none were detected as the data is scatterd. \n",
    "High multi-collinearity can lead to unstable model coefficients and difficulty in interpreting feature importance."
   ]
  },
  {
   "cell_type": "markdown",
   "id": "f78bcdea",
   "metadata": {},
   "source": []
  },
  {
   "cell_type": "markdown",
   "id": "a1c0b314",
   "metadata": {},
   "source": [
    "##### Ques3. How did you select variables to be included in the model?\n",
    "\n",
    "Ans: The variables for the model were selected through a careful process of observing the correlation between each other and considering specific criteria for dropping certain variables. One of the variables, named 'namedest,' was dropped due to a specific condition related to the destination names. Specifically, all destination names starting with the letter 'M' were removed from the dataset because there were no entries across the 'oldbalanceDest' and 'newbalanceDest' variables for these destinations.\n",
    "\n",
    "The variables were selected based on observing the correlation between them and the target variable.By analyzing the correlation between the variables 'oldbalanceOrg', 'newbalanceOrig', 'oldbalanceDest', and 'newbalanceDest'. We identify the ones that show a strong relationship with each other and dropped one of them. Such as 'newbalanceOrig','oldbalanceDest' and 'nameDest','nameOrig' were not relevant for further analysis."
   ]
  },
  {
   "cell_type": "markdown",
   "id": "0b329af4",
   "metadata": {},
   "source": [
    "##### Ques4. Demonstrate the performance of the model by using best set of tools.\n",
    "\n",
    "Ans. Sensitivity (True Positive Rate): The Random Forest model achieved the highest sensitivity (0.9099), indicating that it correctly identifies a large proportion of actual positive cases (fraud, in this case). This is crucial for fraud detection, as it reduces the chances of missing fraudulent transactions.\n",
    "\n",
    "Specificity (True Negative Rate): The Random Forest model also achieved the highest specificity (0.9971), indicating that it correctly identifies a significant portion of actual negative cases (non-fraudulent transactions). High specificity is essential for reducing false alarms and maintaining trust in the system.\n",
    "\n",
    "Accuracy: The Random Forest model obtained the highest accuracy (0.9884), which demonstrates its overall ability to make correct predictions on both positive and negative cases. High accuracy implies that the model performs exceptionally well across the entire dataset.\n",
    "\n",
    "Overall, the Random Forest model's superior performance in Sensitivity, Specificity, and Accuracy makes it the best choice for fraud detection in this scenario. It strikes a balance between accurately detecting fraud instances and minimizing false positives, thus providing a robust and reliable solution for proactive fraud detection. However, it's essential to consider the computational complexity and interpretability of the model when making the final decision, as Random Forest can be more resource-intensive and less interpretable compared to Logistic Regression and KNN.\n",
    "\n",
    "##### Ques5. What are the key factors that predict fraudulent customer?\n",
    "Ans. Key factors which predicted fraudelent customers are 'amount','type_CASH_IN','type_CASH_OUT','type_DEBIT','type_TRANSFER','isFraud'. \n"
   ]
  }
 ],
 "metadata": {
  "kernelspec": {
   "display_name": "Python 3 (ipykernel)",
   "language": "python",
   "name": "python3"
  },
  "language_info": {
   "codemirror_mode": {
    "name": "ipython",
    "version": 3
   },
   "file_extension": ".py",
   "mimetype": "text/x-python",
   "name": "python",
   "nbconvert_exporter": "python",
   "pygments_lexer": "ipython3",
   "version": "3.9.12"
  }
 },
 "nbformat": 4,
 "nbformat_minor": 5
}
